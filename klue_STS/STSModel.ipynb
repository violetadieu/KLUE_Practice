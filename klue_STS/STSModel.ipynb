{
 "cells": [
  {
   "cell_type": "code",
   "execution_count": 65,
   "id": "c5fc6f7e",
   "metadata": {},
   "outputs": [],
   "source": [
    "import torch\n",
    "import json\n",
    "import pandas as pd\n",
    "import numpy as np\n",
    "from torch.utils.data import DataLoader\n",
    "from datasets import load_dataset\n",
    "from sentence_transformers import SentenceTransformer,  LoggingHandler, losses, models, util\n",
    "from sentence_transformers.evaluation import EmbeddingSimilarityEvaluator\n",
    "from sentence_transformers.readers import InputExample\n",
    "from transformers import AutoModel, AutoTokenizer\n"
   ]
  },
  {
   "cell_type": "code",
   "execution_count": 66,
   "id": "07f608a5",
   "metadata": {},
   "outputs": [
    {
     "name": "stderr",
     "output_type": "stream",
     "text": [
      "Some weights of the model checkpoint at klue/bert-base were not used when initializing BertModel: ['cls.seq_relationship.bias', 'cls.predictions.transform.LayerNorm.bias', 'cls.predictions.transform.dense.bias', 'cls.predictions.decoder.weight', 'cls.predictions.transform.dense.weight', 'cls.predictions.decoder.bias', 'cls.predictions.bias', 'cls.seq_relationship.weight', 'cls.predictions.transform.LayerNorm.weight']\n",
      "- This IS expected if you are initializing BertModel from the checkpoint of a model trained on another task or with another architecture (e.g. initializing a BertForSequenceClassification model from a BertForPreTraining model).\n",
      "- This IS NOT expected if you are initializing BertModel from the checkpoint of a model that you expect to be exactly identical (initializing a BertForSequenceClassification model from a BertForSequenceClassification model).\n"
     ]
    }
   ],
   "source": [
    "modelName=\"klue/bert-base\"\n",
    "tokenizerName=\"klue/bert-base\"\n",
    "embeddingModelName=models.Transformer(modelName)\n",
    "tokenizer = AutoTokenizer.from_pretrained(tokenizerName)"
   ]
  },
  {
   "cell_type": "code",
   "execution_count": 82,
   "id": "99541e4b",
   "metadata": {},
   "outputs": [],
   "source": [
    "def readTrainData(path):\n",
    "    trainDataset=[]\n",
    "    with open(path,'rb')as file:\n",
    "        STSdata=json.load(file)\n",
    "    \n",
    "    for item in STSdata:\n",
    "        score=float(item['labels']['label'])/5.0\n",
    "\n",
    "        inputEx=InputExample(\n",
    "        texts=[item[\"sentence1\"],item[\"sentence2\"]],\n",
    "        label=score\n",
    "        )\n",
    "        trainDataset.append(inputEx)\n",
    "    \n",
    "    return trainDataset"
   ]
  },
  {
   "cell_type": "code",
   "execution_count": 83,
   "id": "d136bca5",
   "metadata": {},
   "outputs": [],
   "source": [
    "BATCH_SIZE=32\n",
    "EPOCH=4\n",
    "outputPath=(modelName+\"_epoch-\"+str(EPOCH)).replace(\"/\",\"-\")\n",
    "outputPath='./outputs/'+outputPath"
   ]
  },
  {
   "cell_type": "code",
   "execution_count": 85,
   "id": "629d79d3",
   "metadata": {},
   "outputs": [],
   "source": [
    "#pooling, mean 사용예정\n",
    "pooler = models.Pooling(\n",
    "    embeddingModelName.get_word_embedding_dimension(),\n",
    "    pooling_mode_mean_tokens=True,\n",
    "    pooling_mode_cls_token=False,\n",
    "    pooling_mode_max_tokens=False,\n",
    ")"
   ]
  },
  {
   "cell_type": "code",
   "execution_count": 86,
   "id": "db4209c2",
   "metadata": {},
   "outputs": [],
   "source": [
    "model = SentenceTransformer(modules=[embeddingModelName, pooler])"
   ]
  },
  {
   "cell_type": "code",
   "execution_count": 87,
   "id": "5e327d32",
   "metadata": {},
   "outputs": [],
   "source": [
    "dataName=\"./dataset/klue-sts-v1.1_train.json\"\n",
    "trainDataset=readTrainData(dataName)"
   ]
  },
  {
   "cell_type": "code",
   "execution_count": 89,
   "id": "007ca584",
   "metadata": {},
   "outputs": [],
   "source": [
    "trainDataLoader=DataLoader(\n",
    "trainDataset,\n",
    "shuffle=True,\n",
    "batch_size=BATCH_SIZE\n",
    ")\n",
    "trainLoss=losses.CosineSimilarityLoss(model=model)"
   ]
  },
  {
   "cell_type": "code",
   "execution_count": 90,
   "id": "f4d8f446",
   "metadata": {},
   "outputs": [],
   "source": [
    "evaluator=EmbeddingSimilarityEvaluator.from_input_examples(\n",
    "trainDataset,\n",
    "name=\"sts-vali\"\n",
    ")"
   ]
  },
  {
   "cell_type": "code",
   "execution_count": 91,
   "id": "17f9ce9f",
   "metadata": {},
   "outputs": [
    {
     "data": {
      "application/vnd.jupyter.widget-view+json": {
       "model_id": "66ed4621141b4d51af1c5bf074d9470c",
       "version_major": 2,
       "version_minor": 0
      },
      "text/plain": [
       "Epoch:   0%|          | 0/4 [00:00<?, ?it/s]"
      ]
     },
     "metadata": {},
     "output_type": "display_data"
    },
    {
     "data": {
      "application/vnd.jupyter.widget-view+json": {
       "model_id": "0bdf9f7e1c744d53954a813e2a65e8c1",
       "version_major": 2,
       "version_minor": 0
      },
      "text/plain": [
       "Iteration:   0%|          | 0/365 [00:00<?, ?it/s]"
      ]
     },
     "metadata": {},
     "output_type": "display_data"
    },
    {
     "data": {
      "application/vnd.jupyter.widget-view+json": {
       "model_id": "2ede9148465d481b950b251a97eae2f2",
       "version_major": 2,
       "version_minor": 0
      },
      "text/plain": [
       "Iteration:   0%|          | 0/365 [00:00<?, ?it/s]"
      ]
     },
     "metadata": {},
     "output_type": "display_data"
    },
    {
     "data": {
      "application/vnd.jupyter.widget-view+json": {
       "model_id": "86109d3e908d41ee84f0e77f87433cbf",
       "version_major": 2,
       "version_minor": 0
      },
      "text/plain": [
       "Iteration:   0%|          | 0/365 [00:00<?, ?it/s]"
      ]
     },
     "metadata": {},
     "output_type": "display_data"
    },
    {
     "data": {
      "application/vnd.jupyter.widget-view+json": {
       "model_id": "35644ed3f8a04cf084545dc579416cf9",
       "version_major": 2,
       "version_minor": 0
      },
      "text/plain": [
       "Iteration:   0%|          | 0/365 [00:00<?, ?it/s]"
      ]
     },
     "metadata": {},
     "output_type": "display_data"
    }
   ],
   "source": [
    "model.fit(\n",
    "train_objectives=[(trainDataLoader, trainLoss)],\n",
    "    evaluator=evaluator,\n",
    "    epochs=EPOCH,\n",
    "    evaluation_steps=1000,\n",
    "    output_path=outputPath\n",
    " )"
   ]
  },
  {
   "cell_type": "code",
   "execution_count": 132,
   "id": "8f076c0f",
   "metadata": {},
   "outputs": [
    {
     "name": "stdout",
     "output_type": "stream",
     "text": [
      "입력 문장: 손흥민은 어린 나이에 유럽에 진출하였다.\n",
      "\n",
      "<입력 문장과 유사한 5 개의 문장>\n",
      "\n",
      "1: 독일 U-19 리그에서 손흥민은 11경기 6골, 2부 리그에서는 6경기 1골을 넣으며 재능을 인정받아 2010년 6월 17세의 나이로 함부르크의 1군 팀 훈련에 참가, 프리시즌 활약으로 함부르크와 정식 계약을 한 후 10월 18세에 함부르크 1군 소속으로 독일 분데스리가에 데뷔하였다. (유사도: 0.6070)\n",
      "\n",
      "2: 그해 11월 함부르크의 정식 유소년팀 선수 계약을 체결하였으며 독일 U-19 리그 4경기 2골을 넣고 2군 리그에 출전을 시작했다. (유사도: 0.5975)\n",
      "\n",
      "3: 1년간의 유학 후 2009년 8월 한국으로 돌아온 후 10월에 개막한 FIFA U-17 월드컵에 출전하여 3골을 터트리며 한국을 8강으로 이끌었다. (유사도: 0.4670)\n",
      "\n",
      "4: 함부르크 유스팀 주전 공격수로 2008년 6월 네덜란드에서 열린 4개국 경기에서 4게임에 출전, 3골을 터뜨렸다. (유사도: 0.4306)\n",
      "\n",
      "5: 춘천 부안초등학교를 졸업했고, 춘천 후평중학교에 입학한 후 2학년때 원주 육민관중학교 축구부에 들어가기 위해 전학하여 졸업하였으며, 2008년 당시 FC 서울의 U-18팀이었던 동북고등학교 축구부에서 선수 활동 중 대한축구협회 우수선수 해외유학 프로젝트에 선발되어 2008년 8월 독일 분데스리가의 함부르크 유소년팀에 입단하였다. (유사도: 0.4037)\n",
      "\n"
     ]
    }
   ],
   "source": [
    "docs = [\n",
    "    \"1992년 7월 8일 손흥민은 강원도 춘천시 후평동에서 아버지 손웅정과 어머니 길은자의 차남으로 태어나 그곳에서 자랐다.\",\n",
    "    \"형은 손흥윤이다.\",\n",
    "    \"춘천 부안초등학교를 졸업했고, 춘천 후평중학교에 입학한 후 2학년때 원주 육민관중학교 축구부에 들어가기 위해 전학하여 졸업하였으며, 2008년 당시 FC 서울의 U-18팀이었던 동북고등학교 축구부에서 선수 활동 중 대한축구협회 우수선수 해외유학 프로젝트에 선발되어 2008년 8월 독일 분데스리가의 함부르크 유소년팀에 입단하였다.\",\n",
    "    \"함부르크 유스팀 주전 공격수로 2008년 6월 네덜란드에서 열린 4개국 경기에서 4게임에 출전, 3골을 터뜨렸다.\",\n",
    "    \"1년간의 유학 후 2009년 8월 한국으로 돌아온 후 10월에 개막한 FIFA U-17 월드컵에 출전하여 3골을 터트리며 한국을 8강으로 이끌었다.\",\n",
    "    \"그해 11월 함부르크의 정식 유소년팀 선수 계약을 체결하였으며 독일 U-19 리그 4경기 2골을 넣고 2군 리그에 출전을 시작했다.\",\n",
    "    \"독일 U-19 리그에서 손흥민은 11경기 6골, 2부 리그에서는 6경기 1골을 넣으며 재능을 인정받아 2010년 6월 17세의 나이로 함부르크의 1군 팀 훈련에 참가, 프리시즌 활약으로 함부르크와 정식 계약을 한 후 10월 18세에 함부르크 1군 소속으로 독일 분데스리가에 데뷔하였다.\",\n",
    "]\n",
    "document_embeddings = model.encode(docs)\n",
    "\n",
    "query = \"손흥민은 어린 나이에 유럽에 진출하였다.\"\n",
    "query_embedding = model.encode(query)\n",
    "\n",
    "top_k = min(5, len(docs))\n",
    "\n",
    "# 입력 문장 - 문장 후보군 간 코사인 유사도 계산 후,\n",
    "cos_scores = util.pytorch_cos_sim(query_embedding, document_embeddings)[0]\n",
    "\n",
    "# 코사인 유사도 순으로 `top_k` 개 문장 추출\n",
    "top_results = torch.topk(cos_scores, k=top_k)\n",
    "\n",
    "print(f\"입력 문장: {query}\")\n",
    "print(f\"\\n<입력 문장과 유사한 {top_k} 개의 문장>\\n\")\n",
    "\n",
    "for i, (score, idx) in enumerate(zip(top_results[0], top_results[1])):\n",
    "    print(f\"{i+1}: {docs[idx]} {'(유사도: {:.4f})'.format(score)}\\n\")"
   ]
  },
  {
   "cell_type": "code",
   "execution_count": null,
   "id": "37ac4eda",
   "metadata": {},
   "outputs": [],
   "source": []
  }
 ],
 "metadata": {
  "kernelspec": {
   "display_name": "Python 3",
   "language": "python",
   "name": "python3"
  },
  "language_info": {
   "codemirror_mode": {
    "name": "ipython",
    "version": 3
   },
   "file_extension": ".py",
   "mimetype": "text/x-python",
   "name": "python",
   "nbconvert_exporter": "python",
   "pygments_lexer": "ipython3",
   "version": "3.7.11"
  }
 },
 "nbformat": 4,
 "nbformat_minor": 5
}
