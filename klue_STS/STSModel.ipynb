{
 "cells": [
  {
   "cell_type": "code",
   "execution_count": 51,
   "id": "c5fc6f7e",
   "metadata": {},
   "outputs": [],
   "source": [
    "import torch\n",
    "import json\n",
    "import pandas as pd\n",
    "import numpy as np\n",
    "from torch.utils.data import DataLoader\n",
    "from datasets import load_dataset\n",
    "from sentence_transformers import SentenceTransformer,  LoggingHandler, losses, models, util\n",
    "from sentence_transformers.evaluation import EmbeddingSimilarityEvaluator\n",
    "from sentence_transformers.readers import InputExample\n"
   ]
  },
  {
   "cell_type": "code",
   "execution_count": 58,
   "id": "99541e4b",
   "metadata": {},
   "outputs": [],
   "source": [
    "def readTrainData(path):\n",
    "    trainDataset=[]\n",
    "    with open(path,'rb')as file:\n",
    "        STSdata=json.load(file)\n",
    "    \n",
    "    for item in STSdata:\n",
    "        score=float(item['labels']['label'])/5.0\n",
    "\n",
    "        inputEx=InputExample(\n",
    "        texts=[item[\"sentence1\"],item[\"sentence2\"]],\n",
    "        label=score\n",
    "        )\n",
    "        trainDataset.append(inputEx)\n",
    "    \n",
    "    return trainDataset"
   ]
  },
  {
   "cell_type": "code",
   "execution_count": 59,
   "id": "93300eb6",
   "metadata": {},
   "outputs": [
    {
     "name": "stderr",
     "output_type": "stream",
     "text": [
      "Some weights of the model checkpoint at klue/bert-base were not used when initializing BertModel: ['cls.predictions.transform.dense.bias', 'cls.seq_relationship.weight', 'cls.seq_relationship.bias', 'cls.predictions.transform.LayerNorm.bias', 'cls.predictions.transform.dense.weight', 'cls.predictions.bias', 'cls.predictions.transform.LayerNorm.weight', 'cls.predictions.decoder.weight', 'cls.predictions.decoder.bias']\n",
      "- This IS expected if you are initializing BertModel from the checkpoint of a model trained on another task or with another architecture (e.g. initializing a BertForSequenceClassification model from a BertForPreTraining model).\n",
      "- This IS NOT expected if you are initializing BertModel from the checkpoint of a model that you expect to be exactly identical (initializing a BertForSequenceClassification model from a BertForSequenceClassification model).\n"
     ]
    }
   ],
   "source": [
    "modelName=\"klue/bert-base\"\n",
    "embeddingModelName=models.Transformer(modelName)"
   ]
  },
  {
   "cell_type": "code",
   "execution_count": 95,
   "id": "d136bca5",
   "metadata": {},
   "outputs": [],
   "source": [
    "BATCH_SIZE=32\n",
    "EPOCH=4\n",
    "outputPath=(modelName+\"_epoch-\"+str(EPOCH)).replace(\"/\",\"-\")\n",
    "outputPath='./outputs/'+outputPath"
   ]
  },
  {
   "cell_type": "code",
   "execution_count": 96,
   "id": "3e517231",
   "metadata": {},
   "outputs": [
    {
     "data": {
      "text/plain": [
       "'./outputs/klue-bert-base_epoch-4'"
      ]
     },
     "execution_count": 96,
     "metadata": {},
     "output_type": "execute_result"
    }
   ],
   "source": [
    "outputPath"
   ]
  },
  {
   "cell_type": "code",
   "execution_count": 97,
   "id": "629d79d3",
   "metadata": {},
   "outputs": [],
   "source": [
    "#pooling, mean 사용예정\n",
    "pooler = models.Pooling(\n",
    "    embeddingModelName.get_word_embedding_dimension(),\n",
    "    pooling_mode_mean_tokens=True,\n",
    "    pooling_mode_cls_token=False,\n",
    "    pooling_mode_max_tokens=False,\n",
    ")"
   ]
  },
  {
   "cell_type": "code",
   "execution_count": 98,
   "id": "db4209c2",
   "metadata": {},
   "outputs": [],
   "source": [
    "model = SentenceTransformer(modules=[embeddingModelName, pooler])"
   ]
  },
  {
   "cell_type": "code",
   "execution_count": 99,
   "id": "5e327d32",
   "metadata": {},
   "outputs": [],
   "source": [
    "dataName=\"./dataset/klue-sts-v1.1_train.json\"\n",
    "trainDataset=readTrainData(dataName)"
   ]
  },
  {
   "cell_type": "code",
   "execution_count": 100,
   "id": "007ca584",
   "metadata": {},
   "outputs": [],
   "source": [
    "trainDataLoader=DataLoader(\n",
    "trainDataset,\n",
    "shuffle=True,\n",
    "batch_size=BATCH_SIZE\n",
    ")\n",
    "trainLoss=losses.CosineSimilarityLoss(model=model)"
   ]
  },
  {
   "cell_type": "code",
   "execution_count": 101,
   "id": "f4d8f446",
   "metadata": {},
   "outputs": [],
   "source": [
    "evaluator=EmbeddingSimilarityEvaluator.from_input_examples(\n",
    "trainDataset,\n",
    "name=\"sts-vali\"\n",
    ")"
   ]
  },
  {
   "cell_type": "code",
   "execution_count": 102,
   "id": "17f9ce9f",
   "metadata": {},
   "outputs": [
    {
     "name": "stderr",
     "output_type": "stream",
     "text": [
      "C:\\Users\\DESKTOP\\anaconda3\\envs\\a2\\lib\\site-packages\\transformers\\optimization.py:309: FutureWarning: This implementation of AdamW is deprecated and will be removed in a future version. Use the PyTorch implementation torch.optim.AdamW instead, or set `no_deprecation_warning=True` to disable this warning\n",
      "  FutureWarning,\n"
     ]
    },
    {
     "data": {
      "application/vnd.jupyter.widget-view+json": {
       "model_id": "0d3b57a9bdd347ac843cd67a81eb3879",
       "version_major": 2,
       "version_minor": 0
      },
      "text/plain": [
       "Epoch:   0%|          | 0/4 [00:00<?, ?it/s]"
      ]
     },
     "metadata": {},
     "output_type": "display_data"
    },
    {
     "data": {
      "application/vnd.jupyter.widget-view+json": {
       "model_id": "6ef0aa9738304f629047f3001af815a9",
       "version_major": 2,
       "version_minor": 0
      },
      "text/plain": [
       "Iteration:   0%|          | 0/365 [00:00<?, ?it/s]"
      ]
     },
     "metadata": {},
     "output_type": "display_data"
    },
    {
     "data": {
      "application/vnd.jupyter.widget-view+json": {
       "model_id": "813ba46297d84c45b048155270065f33",
       "version_major": 2,
       "version_minor": 0
      },
      "text/plain": [
       "Iteration:   0%|          | 0/365 [00:00<?, ?it/s]"
      ]
     },
     "metadata": {},
     "output_type": "display_data"
    },
    {
     "data": {
      "application/vnd.jupyter.widget-view+json": {
       "model_id": "cc5c5585189d4a26809e1e37ca61677b",
       "version_major": 2,
       "version_minor": 0
      },
      "text/plain": [
       "Iteration:   0%|          | 0/365 [00:00<?, ?it/s]"
      ]
     },
     "metadata": {},
     "output_type": "display_data"
    },
    {
     "data": {
      "application/vnd.jupyter.widget-view+json": {
       "model_id": "50e4f8cdc7dc40cabaaac157c06be945",
       "version_major": 2,
       "version_minor": 0
      },
      "text/plain": [
       "Iteration:   0%|          | 0/365 [00:00<?, ?it/s]"
      ]
     },
     "metadata": {},
     "output_type": "display_data"
    }
   ],
   "source": [
    "model.fit(\n",
    "train_objectives=[(trainDataLoader, trainLoss)],\n",
    "    evaluator=evaluator,\n",
    "    epochs=EPOCH,\n",
    "    evaluation_steps=1000,\n",
    "    output_path=outputPath\n",
    " )"
   ]
  },
  {
   "cell_type": "code",
   "execution_count": null,
   "id": "7017ec0d",
   "metadata": {},
   "outputs": [],
   "source": []
  }
 ],
 "metadata": {
  "kernelspec": {
   "display_name": "Python 3",
   "language": "python",
   "name": "python3"
  },
  "language_info": {
   "codemirror_mode": {
    "name": "ipython",
    "version": 3
   },
   "file_extension": ".py",
   "mimetype": "text/x-python",
   "name": "python",
   "nbconvert_exporter": "python",
   "pygments_lexer": "ipython3",
   "version": "3.7.11"
  }
 },
 "nbformat": 4,
 "nbformat_minor": 5
}
