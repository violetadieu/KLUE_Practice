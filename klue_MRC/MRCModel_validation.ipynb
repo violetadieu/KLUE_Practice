{
 "cells": [
  {
   "cell_type": "code",
   "execution_count": 16,
   "id": "cedbf843",
   "metadata": {},
   "outputs": [],
   "source": [
    "#KLUE QA Dataset과 Roberta-large모델을 활용한 학습 예제 입니다.\n",
    "\n",
    "import json\n",
    "import random\n",
    "import collections\n",
    "\n",
    "import torch\n",
    "import numpy as np\n",
    "from tqdm.notebook import tqdm\n",
    "from torch.utils.data import Dataset,DataLoader\n",
    "from transformers import AutoModel, AutoTokenizer\n",
    "from transformers import AutoTokenizer,AutoModelForQuestionAnswering,AdamW"
   ]
  },
  {
   "cell_type": "code",
   "execution_count": 17,
   "id": "82df87f6",
   "metadata": {},
   "outputs": [],
   "source": [
    "def readDevData(path):\n",
    "    with open(path, 'rb') as f:\n",
    "        testData = json.load(f)\n",
    "\n",
    "    contexts = []\n",
    "    questions = []\n",
    "    answers = []\n",
    "    \n",
    "    #데이터셋이 하나밖에 없으면 비율 나누기, train, dev로 나뉘었으면 그냥 쓰기\n",
    "    #testData=testData[\"data\"]\n",
    "    testData=testData[\"data\"][int(len(testData[\"data\"])*0.8):len(testData[\"data\"])]\n",
    "    \n",
    "    for group in tqdm(testData):\n",
    "        for passage in group['paragraphs']:\n",
    "            context = passage['context']\n",
    "            for qa in passage['qas']:\n",
    "                question = qa['question']\n",
    "                temp_answer = []\n",
    "                for answer in qa['answers']:\n",
    "                    temp_answer.append(answer['text'])\n",
    "                if len(temp_answer) != 0:\n",
    "                    contexts.append(context)\n",
    "                    questions.append(question)\n",
    "                    answers.append(temp_answer)\n",
    "\n",
    "    return contexts, questions, answers"
   ]
  },
  {
   "cell_type": "code",
   "execution_count": 18,
   "id": "c1d67fb4",
   "metadata": {},
   "outputs": [],
   "source": [
    "def prediction(contexts, questions):\n",
    "    \n",
    "    model.to(device)\n",
    "    model.eval()\n",
    "    \n",
    "    result = []\n",
    "    \n",
    "    with torch.no_grad():\n",
    "        for context, question in tqdm(zip(contexts, questions),total=len(contexts)):\n",
    "            encodings = tokenizer(context, question, max_length=512, truncation=True,\n",
    "                                     padding=\"max_length\", return_token_type_ids=False)\n",
    "            encodings = {key: torch.tensor([val]) for key, val in encodings.items()}\n",
    "            \n",
    "            input_ids = encodings[\"input_ids\"].to(device)\n",
    "            attention_mask = encodings[\"attention_mask\"].to(device)\n",
    "            \n",
    "            outputs = model(input_ids, attention_mask=attention_mask)\n",
    "            start_logits, end_logits = outputs.start_logits, outputs.end_logits\n",
    "            token_start_index, token_end_index = start_logits.argmax(dim=-1), end_logits.argmax(dim=-1)\n",
    "            pred_ids = input_ids[0][token_start_index: token_end_index + 1]\n",
    "            pred = tokenizer.decode(pred_ids)\n",
    "            result.append(pred)\n",
    "\n",
    "    return result"
   ]
  },
  {
   "cell_type": "code",
   "execution_count": 19,
   "id": "c88385d7",
   "metadata": {},
   "outputs": [],
   "source": [
    "#정확도 점수 측정\n",
    "def emEvalutate(preds, reals):\n",
    "    total = len(preds)\n",
    "    exact_match = 0\n",
    "    for pred, real in zip(preds, reals):\n",
    "        if pred in real:\n",
    "            exact_match += 1\n",
    "    \n",
    "    return (exact_match/total) * 100"
   ]
  },
  {
   "cell_type": "code",
   "execution_count": 20,
   "id": "9a30979a",
   "metadata": {},
   "outputs": [
    {
     "data": {
      "application/vnd.jupyter.widget-view+json": {
       "model_id": "b4e433ac9d434e52aa96bcedb2ce8775",
       "version_major": 2,
       "version_minor": 0
      },
      "text/plain": [
       "  0%|          | 0/1015 [00:00<?, ?it/s]"
      ]
     },
     "metadata": {},
     "output_type": "display_data"
    }
   ],
   "source": [
    "#훈련 data 전처리\n",
    "#aihubData\n",
    "#dataName=\"./dataset/ko_nia_normal_squad_all.json\"\n",
    "\n",
    "#KLUE-Data\n",
    "dataName=\"./dataset/klue-mrc-v1.1_dev.json\"\n",
    "dev_contexts ,dev_questions ,dev_answers =readDevData(dataName)"
   ]
  },
  {
   "cell_type": "code",
   "execution_count": 21,
   "id": "378785f7",
   "metadata": {},
   "outputs": [],
   "source": [
    "#MRCModel에서 훈련을 완료한 model 가저오기 및 tokenizer 설정\n",
    "device=torch.device('cuda') if torch.cuda.is_available() else torch.device('cpu')\n",
    "modelName=\"klue-bert-base_klue-bert-base_epoch-10\"\n",
    "\n",
    "tokenizer=AutoTokenizer.from_pretrained(\"klue/bert-base\")\n",
    "model = AutoModelForQuestionAnswering.from_pretrained(\"outputs/\"+modelName)"
   ]
  },
  {
   "cell_type": "code",
   "execution_count": 22,
   "id": "4fb27682",
   "metadata": {},
   "outputs": [
    {
     "data": {
      "application/vnd.jupyter.widget-view+json": {
       "model_id": "39b014dcf9df4c15863f0bffffa60499",
       "version_major": 2,
       "version_minor": 0
      },
      "text/plain": [
       "  0%|          | 0/737 [00:00<?, ?it/s]"
      ]
     },
     "metadata": {},
     "output_type": "display_data"
    }
   ],
   "source": [
    "#결과값(예측 answer)\n",
    "preds = prediction(dev_contexts, dev_questions)"
   ]
  },
  {
   "cell_type": "code",
   "execution_count": 23,
   "id": "aa151c77",
   "metadata": {},
   "outputs": [
    {
     "data": {
      "text/plain": [
       "26.45861601085482"
      ]
     },
     "execution_count": 23,
     "metadata": {},
     "output_type": "execute_result"
    }
   ],
   "source": [
    "#정확도 측정\n",
    "emScore=emEvalutate(preds,dev_answers)\n",
    "emScore"
   ]
  },
  {
   "cell_type": "code",
   "execution_count": null,
   "id": "a0739a8b",
   "metadata": {},
   "outputs": [],
   "source": []
  }
 ],
 "metadata": {
  "kernelspec": {
   "display_name": "Python 3",
   "language": "python",
   "name": "python3"
  },
  "language_info": {
   "codemirror_mode": {
    "name": "ipython",
    "version": 3
   },
   "file_extension": ".py",
   "mimetype": "text/x-python",
   "name": "python",
   "nbconvert_exporter": "python",
   "pygments_lexer": "ipython3",
   "version": "3.7.11"
  }
 },
 "nbformat": 4,
 "nbformat_minor": 5
}
